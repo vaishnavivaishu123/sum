{
 "cells": [
  {
   "cell_type": "code",
   "execution_count": 12,
   "id": "6de79f66",
   "metadata": {},
   "outputs": [],
   "source": [
    "import pandas as pd\n",
    "import numpy as np\n",
    "import seaborn as sns\n",
    "import matplotlib.pyplot as plt\n",
    "import warnings\n",
    "%matplotlib inline\n",
    "warnings.filterwarnings('ignore')\n",
    "from keras.models import Sequential\n",
    "from keras.layers import Dense\n",
    "from sklearn import linear_model\n",
    "from sklearn.metrics import mean_squared_error, mean_absolute_error"
   ]
  },
  {
   "cell_type": "code",
   "execution_count": 13,
   "id": "f3b8327f",
   "metadata": {},
   "outputs": [],
   "source": [
    "from tensorflow.keras.datasets import boston_housing"
   ]
  },
  {
   "cell_type": "code",
   "execution_count": 14,
   "id": "7ecc568b",
   "metadata": {},
   "outputs": [],
   "source": [
    "(X_train,y_train),(X_test,y_test)=boston_housing.load_data()"
   ]
  },
  {
   "cell_type": "code",
   "execution_count": 15,
   "id": "d119ddff",
   "metadata": {},
   "outputs": [],
   "source": [
    "from sklearn.preprocessing import StandardScaler\n",
    "scaler=StandardScaler()\n",
    "scaler.fit(X_train)\n",
    "X_train_scaled = scaler.transform(X_train)\n",
    "X_test_scaled = scaler.transform(X_test)"
   ]
  },
  {
   "cell_type": "code",
   "execution_count": 16,
   "id": "d8a372e6",
   "metadata": {},
   "outputs": [],
   "source": [
    "model = Sequential()\n",
    "model.add(Dense(128, input_dim=13, activation='relu'))\n",
    "model.add(Dense(64, activation='relu'))\n",
    "#Output layer\n",
    "model.add(Dense(1, activation='linear'))"
   ]
  },
  {
   "cell_type": "code",
   "execution_count": 17,
   "id": "b5ff8c0d",
   "metadata": {},
   "outputs": [
    {
     "name": "stdout",
     "output_type": "stream",
     "text": [
      "Model: \"sequential_1\"\n",
      "_________________________________________________________________\n",
      " Layer (type)                Output Shape              Param #   \n",
      "=================================================================\n",
      " dense_3 (Dense)             (None, 128)               1792      \n",
      "                                                                 \n",
      " dense_4 (Dense)             (None, 64)                8256      \n",
      "                                                                 \n",
      " dense_5 (Dense)             (None, 1)                 65        \n",
      "                                                                 \n",
      "=================================================================\n",
      "Total params: 10,113\n",
      "Trainable params: 10,113\n",
      "Non-trainable params: 0\n",
      "_________________________________________________________________\n"
     ]
    }
   ],
   "source": [
    "model.compile(loss='mean_squared_error', optimizer='adam', metrics=['mae'])\n",
    "model.summary()"
   ]
  },
  {
   "cell_type": "code",
   "execution_count": 18,
   "id": "632c4252",
   "metadata": {},
   "outputs": [
    {
     "name": "stdout",
     "output_type": "stream",
     "text": [
      "Epoch 1/100\n",
      "11/11 [==============================] - 1s 14ms/step - loss: 546.1136 - mae: 21.5128 - val_loss: 577.2201 - val_mae: 22.2198\n",
      "Epoch 2/100\n",
      "11/11 [==============================] - 0s 4ms/step - loss: 484.5404 - mae: 20.0160 - val_loss: 503.6900 - val_mae: 20.5376\n",
      "Epoch 3/100\n",
      "11/11 [==============================] - 0s 4ms/step - loss: 410.5581 - mae: 18.1029 - val_loss: 408.1864 - val_mae: 18.1550\n",
      "Epoch 4/100\n",
      "11/11 [==============================] - 0s 4ms/step - loss: 313.4619 - mae: 15.4475 - val_loss: 297.5050 - val_mae: 14.9577\n",
      "Epoch 5/100\n",
      "11/11 [==============================] - 0s 5ms/step - loss: 211.2010 - mae: 12.0558 - val_loss: 184.8123 - val_mae: 10.8618\n",
      "Epoch 6/100\n",
      "11/11 [==============================] - 0s 4ms/step - loss: 122.5672 - mae: 8.5262 - val_loss: 108.8370 - val_mae: 7.8003\n",
      "Epoch 7/100\n",
      "11/11 [==============================] - 0s 4ms/step - loss: 74.7336 - mae: 6.5641 - val_loss: 77.7618 - val_mae: 6.6422\n",
      "Epoch 8/100\n",
      "11/11 [==============================] - 0s 4ms/step - loss: 60.6438 - mae: 5.8841 - val_loss: 59.9813 - val_mae: 5.8524\n",
      "Epoch 9/100\n",
      "11/11 [==============================] - 0s 4ms/step - loss: 46.5946 - mae: 5.1371 - val_loss: 45.9654 - val_mae: 5.0752\n",
      "Epoch 10/100\n",
      "11/11 [==============================] - 0s 4ms/step - loss: 35.9810 - mae: 4.4131 - val_loss: 37.1490 - val_mae: 4.5071\n",
      "Epoch 11/100\n",
      "11/11 [==============================] - 0s 3ms/step - loss: 30.1496 - mae: 3.9915 - val_loss: 31.0697 - val_mae: 4.1701\n",
      "Epoch 12/100\n",
      "11/11 [==============================] - 0s 3ms/step - loss: 26.4285 - mae: 3.6884 - val_loss: 27.8390 - val_mae: 4.0085\n",
      "Epoch 13/100\n",
      "11/11 [==============================] - 0s 4ms/step - loss: 24.3741 - mae: 3.5924 - val_loss: 25.9150 - val_mae: 3.9657\n",
      "Epoch 14/100\n",
      "11/11 [==============================] - 0s 3ms/step - loss: 22.7141 - mae: 3.4787 - val_loss: 24.0692 - val_mae: 3.7686\n",
      "Epoch 15/100\n",
      "11/11 [==============================] - 0s 4ms/step - loss: 21.0875 - mae: 3.2667 - val_loss: 22.6621 - val_mae: 3.6009\n",
      "Epoch 16/100\n",
      "11/11 [==============================] - 0s 3ms/step - loss: 19.9930 - mae: 3.1372 - val_loss: 21.9162 - val_mae: 3.5628\n",
      "Epoch 17/100\n",
      "11/11 [==============================] - 0s 3ms/step - loss: 19.1578 - mae: 3.0731 - val_loss: 21.1554 - val_mae: 3.4981\n",
      "Epoch 18/100\n",
      "11/11 [==============================] - 0s 4ms/step - loss: 18.4363 - mae: 3.0172 - val_loss: 20.2301 - val_mae: 3.3662\n",
      "Epoch 19/100\n",
      "11/11 [==============================] - 0s 4ms/step - loss: 17.8252 - mae: 2.9520 - val_loss: 19.7290 - val_mae: 3.3542\n",
      "Epoch 20/100\n",
      "11/11 [==============================] - 0s 3ms/step - loss: 17.1588 - mae: 2.8977 - val_loss: 19.3230 - val_mae: 3.3628\n",
      "Epoch 21/100\n",
      "11/11 [==============================] - 0s 3ms/step - loss: 16.5945 - mae: 2.8480 - val_loss: 18.5884 - val_mae: 3.2870\n",
      "Epoch 22/100\n",
      "11/11 [==============================] - 0s 4ms/step - loss: 16.5021 - mae: 2.8267 - val_loss: 18.2264 - val_mae: 3.1714\n",
      "Epoch 23/100\n",
      "11/11 [==============================] - 0s 3ms/step - loss: 15.6776 - mae: 2.7614 - val_loss: 17.7644 - val_mae: 3.2334\n",
      "Epoch 24/100\n",
      "11/11 [==============================] - 0s 4ms/step - loss: 15.1151 - mae: 2.7293 - val_loss: 17.3685 - val_mae: 3.2082\n",
      "Epoch 25/100\n",
      "11/11 [==============================] - 0s 4ms/step - loss: 14.6169 - mae: 2.6815 - val_loss: 16.5470 - val_mae: 3.0330\n",
      "Epoch 26/100\n",
      "11/11 [==============================] - 0s 3ms/step - loss: 14.2082 - mae: 2.6385 - val_loss: 16.3269 - val_mae: 3.0449\n",
      "Epoch 27/100\n",
      "11/11 [==============================] - 0s 4ms/step - loss: 13.7859 - mae: 2.6122 - val_loss: 16.2911 - val_mae: 3.0457\n",
      "Epoch 28/100\n",
      "11/11 [==============================] - 0s 3ms/step - loss: 13.4034 - mae: 2.5730 - val_loss: 15.8698 - val_mae: 3.0047\n",
      "Epoch 29/100\n",
      "11/11 [==============================] - 0s 4ms/step - loss: 13.2359 - mae: 2.5132 - val_loss: 15.3988 - val_mae: 2.9585\n",
      "Epoch 30/100\n",
      "11/11 [==============================] - 0s 3ms/step - loss: 12.7743 - mae: 2.4683 - val_loss: 15.2678 - val_mae: 2.9429\n",
      "Epoch 31/100\n",
      "11/11 [==============================] - 0s 4ms/step - loss: 13.2289 - mae: 2.5755 - val_loss: 16.4871 - val_mae: 3.1223\n",
      "Epoch 32/100\n",
      "11/11 [==============================] - 0s 3ms/step - loss: 12.3894 - mae: 2.4556 - val_loss: 14.7631 - val_mae: 2.8866\n",
      "Epoch 33/100\n",
      "11/11 [==============================] - 0s 4ms/step - loss: 11.9780 - mae: 2.4038 - val_loss: 14.4321 - val_mae: 2.8039\n",
      "Epoch 34/100\n",
      "11/11 [==============================] - 0s 3ms/step - loss: 11.6977 - mae: 2.3951 - val_loss: 14.4306 - val_mae: 2.7966\n",
      "Epoch 35/100\n",
      "11/11 [==============================] - 0s 4ms/step - loss: 11.4893 - mae: 2.3669 - val_loss: 14.4798 - val_mae: 2.8273\n",
      "Epoch 36/100\n",
      "11/11 [==============================] - 0s 4ms/step - loss: 11.2219 - mae: 2.3303 - val_loss: 14.1445 - val_mae: 2.7686\n",
      "Epoch 37/100\n",
      "11/11 [==============================] - 0s 4ms/step - loss: 11.0324 - mae: 2.3340 - val_loss: 13.7924 - val_mae: 2.7140\n",
      "Epoch 38/100\n",
      "11/11 [==============================] - 0s 4ms/step - loss: 10.8946 - mae: 2.3260 - val_loss: 13.4243 - val_mae: 2.6986\n",
      "Epoch 39/100\n",
      "11/11 [==============================] - 0s 4ms/step - loss: 10.8425 - mae: 2.2993 - val_loss: 13.9811 - val_mae: 2.7935\n",
      "Epoch 40/100\n",
      "11/11 [==============================] - 0s 4ms/step - loss: 10.5552 - mae: 2.2714 - val_loss: 13.4408 - val_mae: 2.6852\n",
      "Epoch 41/100\n",
      "11/11 [==============================] - 0s 4ms/step - loss: 10.3486 - mae: 2.2632 - val_loss: 13.2512 - val_mae: 2.6555\n",
      "Epoch 42/100\n",
      "11/11 [==============================] - 0s 4ms/step - loss: 10.1862 - mae: 2.2260 - val_loss: 13.0142 - val_mae: 2.6622\n",
      "Epoch 43/100\n",
      "11/11 [==============================] - 0s 3ms/step - loss: 10.1079 - mae: 2.2097 - val_loss: 12.9235 - val_mae: 2.6205\n",
      "Epoch 44/100\n",
      "11/11 [==============================] - 0s 4ms/step - loss: 10.1127 - mae: 2.2188 - val_loss: 13.1007 - val_mae: 2.6422\n",
      "Epoch 45/100\n",
      "11/11 [==============================] - 0s 3ms/step - loss: 10.1460 - mae: 2.2650 - val_loss: 13.3057 - val_mae: 2.6168\n",
      "Epoch 46/100\n",
      "11/11 [==============================] - 0s 5ms/step - loss: 9.8280 - mae: 2.2177 - val_loss: 13.3784 - val_mae: 2.6653\n",
      "Epoch 47/100\n",
      "11/11 [==============================] - 0s 4ms/step - loss: 9.7166 - mae: 2.2103 - val_loss: 13.6237 - val_mae: 2.6445\n",
      "Epoch 48/100\n",
      "11/11 [==============================] - 0s 4ms/step - loss: 9.8585 - mae: 2.2928 - val_loss: 16.6673 - val_mae: 2.7930\n",
      "Epoch 49/100\n",
      "11/11 [==============================] - 0s 4ms/step - loss: 10.4471 - mae: 2.3863 - val_loss: 16.6190 - val_mae: 2.7994\n",
      "Epoch 50/100\n",
      "11/11 [==============================] - 0s 4ms/step - loss: 9.7738 - mae: 2.2538 - val_loss: 14.3325 - val_mae: 2.7283\n",
      "Epoch 51/100\n",
      "11/11 [==============================] - 0s 4ms/step - loss: 9.7953 - mae: 2.2105 - val_loss: 14.1977 - val_mae: 2.6950\n",
      "Epoch 52/100\n",
      "11/11 [==============================] - 0s 3ms/step - loss: 9.1739 - mae: 2.1347 - val_loss: 14.6949 - val_mae: 2.6754\n",
      "Epoch 53/100\n",
      "11/11 [==============================] - 0s 4ms/step - loss: 9.1592 - mae: 2.1658 - val_loss: 14.5479 - val_mae: 2.6682\n",
      "Epoch 54/100\n",
      "11/11 [==============================] - 0s 3ms/step - loss: 9.1207 - mae: 2.1625 - val_loss: 13.8572 - val_mae: 2.6274\n",
      "Epoch 55/100\n",
      "11/11 [==============================] - 0s 3ms/step - loss: 9.0839 - mae: 2.1268 - val_loss: 13.9153 - val_mae: 2.6965\n",
      "Epoch 56/100\n",
      "11/11 [==============================] - 0s 3ms/step - loss: 9.0093 - mae: 2.1173 - val_loss: 13.7366 - val_mae: 2.6504\n",
      "Epoch 57/100\n",
      "11/11 [==============================] - 0s 3ms/step - loss: 8.9936 - mae: 2.1053 - val_loss: 13.7117 - val_mae: 2.5981\n",
      "Epoch 58/100\n",
      "11/11 [==============================] - 0s 3ms/step - loss: 8.9019 - mae: 2.1269 - val_loss: 14.1893 - val_mae: 2.6822\n",
      "Epoch 59/100\n",
      "11/11 [==============================] - 0s 3ms/step - loss: 8.6921 - mae: 2.0889 - val_loss: 13.8717 - val_mae: 2.6433\n",
      "Epoch 60/100\n",
      "11/11 [==============================] - 0s 3ms/step - loss: 8.8956 - mae: 2.1435 - val_loss: 14.2171 - val_mae: 2.5928\n",
      "Epoch 61/100\n",
      "11/11 [==============================] - 0s 4ms/step - loss: 8.6648 - mae: 2.1101 - val_loss: 13.8956 - val_mae: 2.6252\n",
      "Epoch 62/100\n"
     ]
    },
    {
     "name": "stdout",
     "output_type": "stream",
     "text": [
      "11/11 [==============================] - 0s 4ms/step - loss: 8.6356 - mae: 2.0922 - val_loss: 15.1969 - val_mae: 2.6972\n",
      "Epoch 63/100\n",
      "11/11 [==============================] - 0s 4ms/step - loss: 8.9283 - mae: 2.1435 - val_loss: 15.1195 - val_mae: 2.6519\n",
      "Epoch 64/100\n",
      "11/11 [==============================] - 0s 4ms/step - loss: 8.4423 - mae: 2.0667 - val_loss: 14.7504 - val_mae: 2.7195\n",
      "Epoch 65/100\n",
      "11/11 [==============================] - 0s 4ms/step - loss: 8.3361 - mae: 2.0347 - val_loss: 14.4203 - val_mae: 2.6453\n",
      "Epoch 66/100\n",
      "11/11 [==============================] - 0s 4ms/step - loss: 8.6710 - mae: 2.0979 - val_loss: 16.7929 - val_mae: 2.8481\n",
      "Epoch 67/100\n",
      "11/11 [==============================] - 0s 3ms/step - loss: 8.7228 - mae: 2.0936 - val_loss: 15.3146 - val_mae: 2.7680\n",
      "Epoch 68/100\n",
      "11/11 [==============================] - 0s 4ms/step - loss: 8.2620 - mae: 2.0197 - val_loss: 14.7147 - val_mae: 2.6677\n",
      "Epoch 69/100\n",
      "11/11 [==============================] - 0s 4ms/step - loss: 8.1402 - mae: 1.9973 - val_loss: 14.6820 - val_mae: 2.6857\n",
      "Epoch 70/100\n",
      "11/11 [==============================] - 0s 4ms/step - loss: 8.0684 - mae: 2.0006 - val_loss: 14.5592 - val_mae: 2.6381\n",
      "Epoch 71/100\n",
      "11/11 [==============================] - 0s 4ms/step - loss: 8.0559 - mae: 1.9958 - val_loss: 14.3586 - val_mae: 2.6516\n",
      "Epoch 72/100\n",
      "11/11 [==============================] - 0s 4ms/step - loss: 8.1083 - mae: 2.0174 - val_loss: 14.3774 - val_mae: 2.6731\n",
      "Epoch 73/100\n",
      "11/11 [==============================] - 0s 4ms/step - loss: 8.1372 - mae: 2.0288 - val_loss: 14.6346 - val_mae: 2.6481\n",
      "Epoch 74/100\n",
      "11/11 [==============================] - 0s 4ms/step - loss: 7.9159 - mae: 1.9873 - val_loss: 14.1329 - val_mae: 2.6298\n",
      "Epoch 75/100\n",
      "11/11 [==============================] - 0s 4ms/step - loss: 7.8469 - mae: 1.9599 - val_loss: 14.0360 - val_mae: 2.6065\n",
      "Epoch 76/100\n",
      "11/11 [==============================] - 0s 4ms/step - loss: 7.7836 - mae: 1.9620 - val_loss: 14.0137 - val_mae: 2.6230\n",
      "Epoch 77/100\n",
      "11/11 [==============================] - 0s 4ms/step - loss: 8.0900 - mae: 1.9593 - val_loss: 13.4735 - val_mae: 2.6519\n",
      "Epoch 78/100\n",
      "11/11 [==============================] - 0s 4ms/step - loss: 7.7878 - mae: 1.9332 - val_loss: 13.9180 - val_mae: 2.5616\n",
      "Epoch 79/100\n",
      "11/11 [==============================] - 0s 4ms/step - loss: 7.6874 - mae: 1.9663 - val_loss: 14.0664 - val_mae: 2.6230\n",
      "Epoch 80/100\n",
      "11/11 [==============================] - 0s 4ms/step - loss: 7.6150 - mae: 1.9421 - val_loss: 13.8285 - val_mae: 2.5798\n",
      "Epoch 81/100\n",
      "11/11 [==============================] - 0s 3ms/step - loss: 7.8410 - mae: 1.9978 - val_loss: 13.6057 - val_mae: 2.5191\n",
      "Epoch 82/100\n",
      "11/11 [==============================] - 0s 3ms/step - loss: 7.3744 - mae: 1.8907 - val_loss: 14.0551 - val_mae: 2.6995\n",
      "Epoch 83/100\n",
      "11/11 [==============================] - 0s 3ms/step - loss: 7.5430 - mae: 1.9231 - val_loss: 13.5629 - val_mae: 2.5404\n",
      "Epoch 84/100\n",
      "11/11 [==============================] - 0s 3ms/step - loss: 7.3890 - mae: 1.9324 - val_loss: 14.2489 - val_mae: 2.5661\n",
      "Epoch 85/100\n",
      "11/11 [==============================] - 0s 3ms/step - loss: 7.4442 - mae: 1.9665 - val_loss: 14.1511 - val_mae: 2.6310\n",
      "Epoch 86/100\n",
      "11/11 [==============================] - 0s 3ms/step - loss: 7.8925 - mae: 2.0463 - val_loss: 14.9678 - val_mae: 2.5870\n",
      "Epoch 87/100\n",
      "11/11 [==============================] - 0s 3ms/step - loss: 7.5166 - mae: 1.9740 - val_loss: 14.2025 - val_mae: 2.6869\n",
      "Epoch 88/100\n",
      "11/11 [==============================] - 0s 3ms/step - loss: 7.4372 - mae: 1.9342 - val_loss: 13.9341 - val_mae: 2.6288\n",
      "Epoch 89/100\n",
      "11/11 [==============================] - 0s 3ms/step - loss: 7.2645 - mae: 1.9186 - val_loss: 14.3686 - val_mae: 2.6109\n",
      "Epoch 90/100\n",
      "11/11 [==============================] - 0s 4ms/step - loss: 7.2036 - mae: 1.9085 - val_loss: 13.6360 - val_mae: 2.5380\n",
      "Epoch 91/100\n",
      "11/11 [==============================] - 0s 4ms/step - loss: 6.9899 - mae: 1.8738 - val_loss: 13.7430 - val_mae: 2.6082\n",
      "Epoch 92/100\n",
      "11/11 [==============================] - 0s 4ms/step - loss: 6.9474 - mae: 1.8580 - val_loss: 13.5971 - val_mae: 2.5418\n",
      "Epoch 93/100\n",
      "11/11 [==============================] - 0s 4ms/step - loss: 6.9072 - mae: 1.8441 - val_loss: 13.6309 - val_mae: 2.5567\n",
      "Epoch 94/100\n",
      "11/11 [==============================] - 0s 3ms/step - loss: 6.9544 - mae: 1.8632 - val_loss: 13.4835 - val_mae: 2.5362\n",
      "Epoch 95/100\n",
      "11/11 [==============================] - 0s 3ms/step - loss: 7.1133 - mae: 1.8946 - val_loss: 13.3352 - val_mae: 2.4976\n",
      "Epoch 96/100\n",
      "11/11 [==============================] - 0s 3ms/step - loss: 6.7789 - mae: 1.8320 - val_loss: 13.8900 - val_mae: 2.6259\n",
      "Epoch 97/100\n",
      "11/11 [==============================] - 0s 3ms/step - loss: 6.8425 - mae: 1.8385 - val_loss: 13.6654 - val_mae: 2.5448\n",
      "Epoch 98/100\n",
      "11/11 [==============================] - 0s 4ms/step - loss: 6.8380 - mae: 1.8621 - val_loss: 13.7057 - val_mae: 2.5155\n",
      "Epoch 99/100\n",
      "11/11 [==============================] - 0s 4ms/step - loss: 6.8401 - mae: 1.8390 - val_loss: 13.1383 - val_mae: 2.5372\n",
      "Epoch 100/100\n",
      "11/11 [==============================] - 0s 4ms/step - loss: 6.9455 - mae: 1.8320 - val_loss: 13.1963 - val_mae: 2.5695\n"
     ]
    }
   ],
   "source": [
    "history = model.fit(X_train_scaled, y_train, validation_split=0.2, epochs =100)"
   ]
  },
  {
   "cell_type": "code",
   "execution_count": 19,
   "id": "4e6f9720",
   "metadata": {},
   "outputs": [
    {
     "data": {
      "image/png": "[encoded data removed]",
      "text/plain": [
       "<Figure size 432x288 with 1 Axes>"
      ]
     },
     "metadata": {
      "needs_background": "light"
     },
     "output_type": "display_data"
    }
   ],
   "source": [
    "from matplotlib import pyplot as plt\n",
    "#plot the training and validation accuracy and loss at each epoch\n",
    "loss = history.history['loss']\n",
    "val_loss = history.history['val_loss']\n",
    "epochs = range(1, len(loss) + 1)\n",
    "plt.plot(epochs, loss, 'y', label='Training loss')\n",
    "plt.plot(epochs, val_loss, 'r', label='Validation loss')\n",
    "plt.title('Training and validation loss')\n",
    "plt.xlabel('Epochs')\n",
    "plt.ylabel('Loss')\n",
    "plt.legend()\n",
    "plt.show()"
   ]
  },
  {
   "cell_type": "code",
   "execution_count": 20,
   "id": "3d33aafe",
   "metadata": {},
   "outputs": [
    {
     "name": "stdout",
     "output_type": "stream",
     "text": [
      "4/4 [==============================] - 0s 2ms/step - loss: 22.2137 - mae: 2.8687\n",
      "Mean squared error from neural net:  22.21367073059082\n",
      "Mean absolute error from neural net:  2.8687188625335693\n"
     ]
    }
   ],
   "source": [
    "mse_neural, mae_neural = model.evaluate(X_test_scaled, y_test)\n",
    "print('Mean squared error from neural net: ', mse_neural)\n",
    "print('Mean absolute error from neural net: ', mae_neural)"
   ]
  },
  {
   "cell_type": "code",
   "execution_count": 21,
   "id": "ca15853b",
   "metadata": {},
   "outputs": [
    {
     "name": "stdout",
     "output_type": "stream",
     "text": [
      "1/1 [==============================] - 0s 50ms/step\n",
      "Predicted values are:  [[ 8.745275]\n",
      " [17.944738]\n",
      " [21.336235]\n",
      " [32.972153]\n",
      " [25.586637]]\n",
      "Real values are:  [ 7.2 18.8 19.  27.  22.2]\n"
     ]
    }
   ],
   "source": [
    "predictions = model.predict(X_test_scaled[:5])\n",
    "print(\"Predicted values are: \", predictions)\n",
    "print(\"Real values are: \", y_test[:5])"
   ]
  },
  {
   "cell_type": "code",
   "execution_count": 22,
   "id": "f6ecfd2a",
   "metadata": {},
   "outputs": [
    {
     "name": "stdout",
     "output_type": "stream",
     "text": [
      "Mean squared error from linear regression:  23.195599256422977\n",
      "Mean absolute error from linear regression:  3.4641858124067166\n"
     ]
    }
   ],
   "source": [
    "lr_model = linear_model.LinearRegression()\n",
    "lr_model.fit(X_train_scaled, y_train)\n",
    "y_pred_lr = lr_model.predict(X_test_scaled)\n",
    "mse_lr = mean_squared_error(y_test, y_pred_lr)\n",
    "mae_lr = mean_absolute_error(y_test, y_pred_lr)\n",
    "print('Mean squared error from linear regression: ', mse_lr)\n",
    "print('Mean absolute error from linear regression: ', mae_lr)"
   ]
  },
  {
   "cell_type": "code",
   "execution_count": null,
   "id": "af6617d4",
   "metadata": {},
   "outputs": [],
   "source": []
  },
  {
   "cell_type": "code",
   "execution_count": null,
   "id": "cba5d5b3",
   "metadata": {},
   "outputs": [],
   "source": []
  },
  {
   "cell_type": "code",
   "execution_count": null,
   "id": "1cb11741",
   "metadata": {},
   "outputs": [],
   "source": []
  }
 ],
 "metadata": {
  "kernelspec": {
   "display_name": "Python 3 (ipykernel)",
   "language": "python",
   "name": "python3"
  },
  "language_info": {
   "codemirror_mode": {
    "name": "ipython",
    "version": 3
   },
   "file_extension": ".py",
   "mimetype": "text/x-python",
   "name": "python",
   "nbconvert_exporter": "python",
   "pygments_lexer": "ipython3",
   "version": "3.9.12"
  }
 },
 "nbformat": 4,
 "nbformat_minor": 5
}
